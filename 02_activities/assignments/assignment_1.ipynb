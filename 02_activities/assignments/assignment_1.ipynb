{
 "cells": [
  {
   "cell_type": "markdown",
   "metadata": {},
   "source": [
    "# Assignment #1: Anagram Checker\n",
    "\n",
    "**Background**: Anagram Checker is a program that takes two words and determines if an anagram can be made from it. If so, the program will return `true`, otherwise `false`."
   ]
  },
  {
   "cell_type": "markdown",
   "metadata": {},
   "source": [
    "## Submission Information\n",
    "\n",
    "🚨 **Please review our [Assignment Submission Guide](https://github.com/UofT-DSI/onboarding/blob/main/onboarding_documents/submissions.md)** 🚨 for detailed instructions on how to format, branch, and submit your work. Following these guidelines is crucial for your submissions to be evaluated correctly.\n",
    "\n",
    "### Submission Parameters:\n",
    "* Submission Due Date: `11:59 PM - Dec 1, 2024`\n",
    "* The branch name for your repo should be: `assignment-1`\n",
    "* What to submit for this assignment:\n",
    "    * This Jupyter Notebook (assignment_1.ipynb) should be populated and should be the only change in your pull request.\n",
    "* What the pull request link should look like for this assignment: `https://github.com/<your_github_username>/python/pull/<pr_id>`\n",
    "    * Open a private window in your browser. Copy and paste the link to your pull request into the address bar. Make sure you can see your pull request properly. This helps the technical facilitator and learning support staff review your submission easily.\n",
    "\n",
    "Checklist:\n",
    "- [ ] Created a branch with the correct naming convention.\n",
    "- [ ] Ensured that the repository is public.\n",
    "- [ ] Reviewed the PR description guidelines and adhered to them.\n",
    "- [ ] Verify that the link is accessible in a private browser window.\n",
    "\n",
    "If you encounter any difficulties or have questions, please don't hesitate to reach out to our team via our Slack at `#cohort-3-help`. Our Technical Facilitators and Learning Support staff are here to help you navigate any challenges."
   ]
  },
  {
   "cell_type": "markdown",
   "metadata": {},
   "source": [
    "### Part 1: Building the base Anagram Checker\n",
    "\n",
    "Given two valid strings, check to see if they are anagrams of each other. If it is, return `True`, else `False`. For this part, we can assume that uppercase letters are the same as if it was a lowercase character.\n",
    "\n",
    "Examples of anagrams:\n",
    "* Silent and Listen\n",
    "* Night and Think\n",
    "\n",
    "Example outputs:\n",
    "```python\n",
    "anagram_checker(\"Silent\", \"listen\") # True\n",
    "anagram_checker(\"Silent\", \"Night\") # False\n",
    "anagram_checker(\"night\", \"Thing\") # True\n",
    "```"
   ]
  },
  {
   "cell_type": "code",
   "execution_count": 1,
   "metadata": {},
   "outputs": [
    {
     "name": "stdout",
     "output_type": "stream",
     "text": [
      "'silent' and 'listen' are anagrams :)\n"
     ]
    },
    {
     "data": {
      "text/plain": [
       "True"
      ]
     },
     "execution_count": 1,
     "metadata": {},
     "output_type": "execute_result"
    }
   ],
   "source": [
    "def anagram_checker(word_a, word_b):\n",
    "  \"\"\"\n",
    "  Check if two wors are anagrams of each other, adding verbose statement.\n",
    "  :param word_a: First word (string)\n",
    "  :param word_b: Second word (string)\n",
    "  \"\"\"\n",
    "# Convert words to lowercase\n",
    "  word_a = word_a.lower()\n",
    "  word_b = word_b.lower()\n",
    "    \n",
    "# Check if sorted characters of both words are the same\n",
    "  is_anagram_checker = sorted(word_a) == sorted(word_b)\n",
    "\n",
    "  if is_anagram_checker:\n",
    "    print(f\"'{word_a}' and '{word_b}' are anagrams :)\")\n",
    "  else:\n",
    "    print(f\"'{word_a}' and '{word_b}' are not anagrams :(\")\n",
    "\n",
    "  return is_anagram_checker\n",
    "\n",
    "# Run your code to check using the words below:\n",
    "anagram_checker(\"Silent\", \"listen\")\n"
   ]
  },
  {
   "cell_type": "code",
   "execution_count": 2,
   "metadata": {},
   "outputs": [
    {
     "name": "stdout",
     "output_type": "stream",
     "text": [
      "'silent' and 'night' are not anagrams :(\n"
     ]
    },
    {
     "data": {
      "text/plain": [
       "False"
      ]
     },
     "execution_count": 2,
     "metadata": {},
     "output_type": "execute_result"
    }
   ],
   "source": [
    "anagram_checker(\"Silent\", \"Night\")\n"
   ]
  },
  {
   "cell_type": "code",
   "execution_count": 3,
   "metadata": {},
   "outputs": [
    {
     "name": "stdout",
     "output_type": "stream",
     "text": [
      "'night' and 'thing' are anagrams :)\n"
     ]
    },
    {
     "data": {
      "text/plain": [
       "True"
      ]
     },
     "execution_count": 3,
     "metadata": {},
     "output_type": "execute_result"
    }
   ],
   "source": [
    "anagram_checker(\"night\", \"Thing\")\n"
   ]
  },
  {
   "cell_type": "markdown",
   "metadata": {},
   "source": [
    "### Part 2: Expanding the functionality of the Anagram Checker\n",
    "\n",
    "Using your existing and functional anagram checker, let's add a boolean option called `is_case_sensitive`, which will return `True` or `False` based on if the two compared words are anagrams and if we are checking for case sensitivity."
   ]
  },
  {
   "cell_type": "code",
   "execution_count": 3,
   "metadata": {},
   "outputs": [
    {
     "name": "stdout",
     "output_type": "stream",
     "text": [
      "'silent' and 'listen' are anagrams :)\n"
     ]
    },
    {
     "data": {
      "text/plain": [
       "True"
      ]
     },
     "execution_count": 3,
     "metadata": {},
     "output_type": "execute_result"
    }
   ],
   "source": [
    "def anagram_checker(word_a, word_b, is_case_sensitive):\n",
    "    \"\"\"\n",
    "    Check if two words are anagrams of each other, considering case sensitivity if required.\n",
    "    \n",
    "    :param word_a: First word (string)\n",
    "    :param word_b: Second word (string)\n",
    "    :param is_case_sensitive: Boolean flag for case sensitivity\n",
    "    :return: Boolean indicating whether the words are anagrams\n",
    "    \"\"\"\n",
    "    # If case insensitive, convert both words to lowercase\n",
    "    if not is_case_sensitive:\n",
    "        word_a = word_a.lower()\n",
    "        word_b = word_b.lower()\n",
    "\n",
    "    # Compare sorted versions of both words\n",
    "    is_anagram = sorted(word_a) == sorted(word_b)\n",
    "\n",
    "    if is_anagram:\n",
    "        print(f\"'{word_a}' and '{word_b}' are anagrams :)\")\n",
    "    else:\n",
    "        print(f\"'{word_a}' and '{word_b}' are not anagrams :(\")\n",
    "\n",
    "    return is_anagram\n",
    "\n",
    "# # Example usage\n",
    "# result = anagram_checker(\"Silent\", \"listen\", False)  # Case-insensitive check, expected output: True\n",
    "\n",
    "# Run your code to check using the words below:\n",
    "anagram_checker(\"Silent\", \"listen\", False) # True\n"
   ]
  },
  {
   "cell_type": "code",
   "execution_count": 8,
   "metadata": {},
   "outputs": [
    {
     "name": "stdout",
     "output_type": "stream",
     "text": [
      "'Silent' and 'Listen' are not anagrams :(\n"
     ]
    },
    {
     "data": {
      "text/plain": [
       "False"
      ]
     },
     "execution_count": 8,
     "metadata": {},
     "output_type": "execute_result"
    }
   ],
   "source": [
    "anagram_checker(\"Silent\", \"Listen\", True) # False\n"
   ]
  },
  {
   "cell_type": "markdown",
   "metadata": {},
   "source": [
    "|Criteria|Pass|Fail|\n",
    "|---|---|---|\n",
    "|Code Execution|All code cells execute without errors.|Any code cell produces an error upon execution.|\n",
    "|Code Quality|Code is well-organized, concise, and includes necessary comments for clarity. E.g. Great use of variable names.|Code is unorganized, verbose, or lacks necessary comments. E.g. Single character variable names outside of loops.|"
   ]
  },
  {
   "cell_type": "markdown",
   "metadata": {},
   "source": [
    "### Part 3: Expanding the functionality of the Anagram Checker with user input and counter for efficiency. \n",
    "\n",
    "Sorting both words (sorted(word_a) and sorted(word_b)) takes 𝑂 ( 𝑛 log ⁡ 𝑛 ) O(nlogn) time, where 𝑛 n is the length of the word. For large words, using Counter from the collections module can improve the time complexity to 𝑂 ( 𝑛 ) O(n), as it counts character frequencies directly."
   ]
  },
  {
   "cell_type": "code",
   "execution_count": 9,
   "metadata": {},
   "outputs": [
    {
     "name": "stdout",
     "output_type": "stream",
     "text": [
      "'escape' and 'home' are not anagrams :(\n"
     ]
    },
    {
     "data": {
      "text/plain": [
       "False"
      ]
     },
     "execution_count": 9,
     "metadata": {},
     "output_type": "execute_result"
    }
   ],
   "source": [
    "from collections import Counter\n",
    "\n",
    "def anagram_checker(word_a, word_b):\n",
    "    \"\"\"\n",
    "    Check if two words are anagrams of each other.\n",
    "    \n",
    "    :param word_a: First word (string)\n",
    "    :param word_b: Second word (string)\n",
    "    :return: Boolean indicating whether the words are anagrams\n",
    "    \"\"\"\n",
    "    # Normalize the words: remove spaces and convert to lowercase\n",
    "    word_a = word_a.replace(\" \", \"\").lower()\n",
    "    word_b = word_b.replace(\" \", \"\").lower()\n",
    "\n",
    "    if len(word_a) != len(word_b):\n",
    "        print(f\"'{word_a}' and '{word_b}' are not anagrams :(\")\n",
    "        return False\n",
    "\n",
    "    # Check if character counts are the same using Counter\n",
    "    anagram_checker = Counter(word_a) == Counter(word_b)\n",
    "\n",
    "    if anagram_checker:\n",
    "        print(f\"'{word_a}' and '{word_b}' are anagrams :)\")\n",
    "    else:\n",
    "        print(f\"'{word_a}' and '{word_b}' are not anagrams :(\")\n",
    "    \n",
    "    return anagram_checker\n",
    "\n",
    "# Input from the user\n",
    "word_a = input(\"Enter the first word: \")\n",
    "word_b = input(\"Enter the second word: \")\n",
    "\n",
    "# Call the function with user inputs\n",
    "anagram_checker(word_a, word_b)\n"
   ]
  }
 ],
 "metadata": {
  "kernelspec": {
   "display_name": "new-learner",
   "language": "python",
   "name": "python3"
  },
  "language_info": {
   "codemirror_mode": {
    "name": "ipython",
    "version": 3
   },
   "file_extension": ".py",
   "mimetype": "text/x-python",
   "name": "python",
   "nbconvert_exporter": "python",
   "pygments_lexer": "ipython3",
   "version": "3.13.0"
  }
 },
 "nbformat": 4,
 "nbformat_minor": 2
}
