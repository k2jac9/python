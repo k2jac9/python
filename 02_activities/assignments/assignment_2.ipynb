{
  "cells": [
    {
      "cell_type": "markdown",
      "metadata": {
        "id": "QmzeljDgm4Ll"
      },
      "source": [
        "# Assignment #2: Efficacy Analysis of a Hypothetical Arthritis Drug\n",
        "\n",
        "**Objective**: In this assignment, your task is to utilize Python programming skills to evaluate the effectiveness of a fictional medication designed to reduce inflammation caused by arthritis flare-ups.\n",
        "\n",
        "**Background**: Imagine a clinical trial where 60 patients were administered a new drug for arthritis. Data from this trial has been recorded in a series of CSV files. Evaluate the effectiveness of a fictional medication designed to reduce inflammation caused by arthritis flare-ups.\n",
        "\n",
        "**Data Structure**:\n",
        "- Each CSV file corresponds to a specific check-in session with the patients.\n",
        "- There are 12 such CSV files, reflecting 12 different sessions where patients reported their experiences.\n",
        "- Inside each file:\n",
        "  - Rows: Each of the 60 rows represents a unique patient.\n",
        "  - Columns: Each of the 40 columns corresponds to a day, detailing the number of inflammation flare-ups the patient experienced on that day.\n",
        "\n",
        "**Your Role**: Analyze this data to determine how effective the new drug has been in managing arthritis inflammation across the trial period."
      ]
    },
    {
      "cell_type": "markdown",
      "metadata": {},
      "source": [
        "## Submission Information\n",
        "\n",
        "🚨 **Please review our [Assignment Submission Guide](https://github.com/UofT-DSI/onboarding/blob/main/onboarding_documents/submissions.md)** 🚨 for detailed instructions on how to format, branch, and submit your work. Following these guidelines is crucial for your submissions to be evaluated correctly.\n",
        "\n",
        "### Submission Parameters:\n",
        "* Submission Due Date: `11:59 PM - Dec 8, 2024`\n",
        "* The branch name for your repo should be: `assignment-2`\n",
        "* What to submit for this assignment:\n",
        "    * This Jupyter Notebook (assignment_2.ipynb) should be populated and should be the only change in your pull request.\n",
        "* What the pull request link should look like for this assignment: `https://github.com/<your_github_username>/python/pull/<pr_id>`\n",
        "    * Open a private window in your browser. Copy and paste the link to your pull request into the address bar. Make sure you can see your pull request properly. This helps the technical facilitator and learning support staff review your submission easily.\n",
        "\n",
        "Checklist:\n",
        "- [ ] Created a branch with the correct naming convention.\n",
        "- [ ] Ensured that the repository is public.\n",
        "- [ ] Reviewed the PR description guidelines and adhered to them.\n",
        "- [ ] Verify that the link is accessible in a private browser window.\n",
        "\n",
        "If you encounter any difficulties or have questions, please don't hesitate to reach out to our team via our Slack at `#cohort-3-help`. Our Technical Facilitators and Learning Support staff are here to help you navigate any challenges."
      ]
    },
    {
      "cell_type": "markdown",
      "metadata": {
        "id": "yMsC2qsiKNP8"
      },
      "source": [
        "**The file is located under `../05_src/data/assignment_2_data/`.**\n",
        "\n",
        "The filtered list has been made for you:\n",
        "\n",
        "```python\n",
        "all_paths = [\n",
        "  \"../05_src/data/assignment_2_data/inflammation_01.csv\",\n",
        "  \"../05_src/data/assignment_2_data/inflammation_02.csv\",\n",
        "  \"../05_src/data/assignment_2_data/inflammation_03.csv\",\n",
        "  \"../05_src/data/assignment_2_data/inflammation_04.csv\",\n",
        "  \"../05_src/data/assignment_2_data/inflammation_05.csv\",\n",
        "  \"../05_src/data/assignment_2_data/inflammation_06.csv\",\n",
        "  \"../05_src/data/assignment_2_data/inflammation_07.csv\",\n",
        "  \"../05_src/data/assignment_2_data/inflammation_08.csv\",\n",
        "  \"../05_src/data/assignment_2_data/inflammation_09.csv\",\n",
        "  \"../05_src/data/assignment_2_data/inflammation_10.csv\",\n",
        "  \"../05_src/data/assignment_2_data/inflammation_11.csv\",\n",
        "  \"../05_src/data/assignment_2_data/inflammation_12.csv\"\n",
        "]\n",
        "```"
      ]
    },
    {
      "cell_type": "markdown",
      "metadata": {
        "id": "JhJAJb1m-nkn"
      },
      "source": [
        "## 1. Reading and Displaying Data from the First File\n",
        "\n",
        "With the list of the relevant `inflammation_xx.csv` file paths above, write a program to read the `inflammation_xx.csv` files, and display the contents of the first file in this list.\n",
        "\n",
        "**Hint**: Remember to use appropriate Python file handling and data reading methods. If you need guidance on how to handle CSV files in Python, refer to the relevant sections in your Python learning resources."
      ]
    },
    {
      "cell_type": "code",
      "execution_count": 1,
      "metadata": {},
      "outputs": [],
      "source": [
        "import csv\n",
        "import numpy as np\n"
      ]
    },
    {
      "cell_type": "code",
      "execution_count": 2,
      "metadata": {},
      "outputs": [],
      "source": [
        "# List of all file paths\n",
        "all_paths = [\n",
        "    \"../../05_src/data/assignment_2_data/inflammation_01.csv\",\n",
        "    \"../../05_src/data/assignment_2_data/inflammation_02.csv\",\n",
        "    \"../../05_src/data/assignment_2_data/inflammation_03.csv\",\n",
        "    \"../../05_src/data/assignment_2_data/inflammation_04.csv\",\n",
        "    \"../../05_src/data/assignment_2_data/inflammation_05.csv\",\n",
        "    \"../../05_src/data/assignment_2_data/inflammation_06.csv\",\n",
        "    \"../../05_src/data/assignment_2_data/inflammation_07.csv\",\n",
        "    \"../../05_src/data/assignment_2_data/inflammation_08.csv\",\n",
        "    \"../../05_src/data/assignment_2_data/inflammation_09.csv\",\n",
        "    \"../../05_src/data/assignment_2_data/inflammation_10.csv\",\n",
        "    \"../../05_src/data/assignment_2_data/inflammation_11.csv\",\n",
        "    \"../../05_src/data/assignment_2_data/inflammation_12.csv\"\n",
        "]\n"
      ]
    },
    {
      "cell_type": "code",
      "execution_count": 3,
      "metadata": {},
      "outputs": [
        {
          "data": {
            "text/plain": [
              "'../../05_src/data/assignment_2_data/inflammation_01.csv'"
            ]
          },
          "execution_count": 3,
          "metadata": {},
          "output_type": "execute_result"
        }
      ],
      "source": [
        "# Select the path of the first file in the list of file paths\n",
        "first_file_path = all_paths[0]\n",
        "\n",
        "# Display the selected file path (for verification or debugging purposes)\n",
        "first_file_path\n"
      ]
    },
    {
      "cell_type": "code",
      "execution_count": 4,
      "metadata": {},
      "outputs": [],
      "source": [
        "# Define the number of rows to display\n",
        "num_rows_to_display = 1  # Change this value to display more or fewer rows\n"
      ]
    },
    {
      "cell_type": "markdown",
      "metadata": {},
      "source": [
        "Method 1: Using with open() (Standard Python File I/O)\n"
      ]
    },
    {
      "cell_type": "code",
      "execution_count": 5,
      "metadata": {},
      "outputs": [
        {
          "name": "stdout",
          "output_type": "stream",
          "text": [
            "Displaying the first 1 rows of the file: ../../05_src/data/assignment_2_data/inflammation_01.csv\n",
            "0,0,1,3,1,2,4,7,8,3,3,3,10,5,7,4,7,7,12,18,6,13,11,11,7,7,4,6,8,8,4,4,5,7,3,4,2,3,0,0\n",
            "\n",
            "Displaying the first 1 rows of the file: ../../05_src/data/assignment_2_data/inflammation_02.csv\n",
            "0,0,0,1,3,4,6,5,2,7,7,8,6,11,5,6,10,4,5,9,15,15,14,13,14,12,10,9,8,8,6,6,6,6,5,4,2,1,1,0\n",
            "\n",
            "Displaying the first 1 rows of the file: ../../05_src/data/assignment_2_data/inflammation_03.csv\n",
            "0,0,0,2,0,4,1,7,2,6,4,7,2,4,10,7,3,13,9,3,0,1,0,15,0,5,12,3,8,6,8,6,4,3,3,2,0,0,0,0\n",
            "\n",
            "Displaying the first 1 rows of the file: ../../05_src/data/assignment_2_data/inflammation_04.csv\n",
            "0,1,2,2,4,4,2,5,2,4,8,4,10,7,3,13,10,11,7,7,9,17,7,6,12,13,12,6,5,4,8,6,7,3,5,1,1,0,1,0\n",
            "\n",
            "Displaying the first 1 rows of the file: ../../05_src/data/assignment_2_data/inflammation_05.csv\n",
            "0,1,0,2,4,4,5,1,2,5,5,8,10,12,10,9,15,9,7,9,10,7,5,8,9,6,7,5,11,9,3,8,6,7,5,1,3,0,2,1\n",
            "\n",
            "Displaying the first 1 rows of the file: ../../05_src/data/assignment_2_data/inflammation_06.csv\n",
            "0,0,2,0,3,4,5,7,6,7,8,4,4,6,9,5,10,12,16,8,19,17,16,16,12,12,12,9,8,4,2,8,3,5,6,3,2,2,0,0\n",
            "\n",
            "Displaying the first 1 rows of the file: ../../05_src/data/assignment_2_data/inflammation_07.csv\n",
            "0,1,0,2,2,5,6,2,4,7,2,2,11,5,6,4,4,7,18,17,9,5,7,15,10,4,10,3,3,2,3,4,3,7,3,3,4,1,1,1\n",
            "\n",
            "Displaying the first 1 rows of the file: ../../05_src/data/assignment_2_data/inflammation_08.csv\n",
            "0,0,0,2,0,4,1,7,2,6,4,7,2,4,10,7,3,13,9,3,0,1,0,15,0,5,12,3,8,6,8,6,4,3,3,2,0,0,0,0\n",
            "\n",
            "Displaying the first 1 rows of the file: ../../05_src/data/assignment_2_data/inflammation_09.csv\n",
            "0,0,0,2,4,5,5,4,4,6,8,2,3,8,7,13,8,14,17,6,5,15,14,13,8,6,9,9,11,10,3,5,3,1,5,4,4,3,2,1\n",
            "\n",
            "Displaying the first 1 rows of the file: ../../05_src/data/assignment_2_data/inflammation_10.csv\n",
            "0,1,0,0,3,2,3,6,7,5,10,9,10,9,5,15,12,14,13,9,15,17,4,4,4,8,5,4,7,10,3,4,4,1,1,3,1,3,0,0\n",
            "\n",
            "Displaying the first 1 rows of the file: ../../05_src/data/assignment_2_data/inflammation_11.csv\n",
            "0,0,0,2,0,4,1,7,2,6,4,7,2,4,10,7,3,13,9,3,0,1,0,15,0,5,12,3,8,6,8,6,4,3,3,2,0,0,0,0\n",
            "\n",
            "Displaying the first 1 rows of the file: ../../05_src/data/assignment_2_data/inflammation_12.csv\n",
            "0,0,2,3,3,1,6,6,3,6,10,6,8,5,5,8,16,12,13,5,13,18,11,12,11,9,10,13,9,4,4,7,7,3,1,5,3,1,1,1\n",
            "\n"
          ]
        }
      ],
      "source": [
        "# Loop through all the file paths and display the first 'num_rows_to_display' rows of each file using 'with open'\n",
        "for file_path in all_paths:\n",
        "    try:\n",
        "        # Open each file and read the lines\n",
        "        with open(file_path, 'r') as f:\n",
        "            # Read all lines from the file\n",
        "            lines = f.readlines()\n",
        "            \n",
        "            # Display the first 'num_rows_to_display' rows\n",
        "            print(f\"Displaying the first {num_rows_to_display} rows of the file: {file_path}\")\n",
        "            for i in range(min(num_rows_to_display, len(lines))):  # Safeguard in case there are fewer than 'num_rows_to_display' rows\n",
        "                print(lines[i].strip())  # Using strip() to remove the newline characters\n",
        "            print()  # Adds an empty line between files for clarity\n",
        "\n",
        "    except FileNotFoundError:\n",
        "        print(f\"Error: The file at {file_path} was not found.\")\n",
        "    except Exception as e:\n",
        "        print(f\"An error occurred with the file {file_path}: {e}\")\n"
      ]
    },
    {
      "cell_type": "markdown",
      "metadata": {},
      "source": [
        "Method 2: Using the csv Module (csv.reader)\n"
      ]
    },
    {
      "cell_type": "code",
      "execution_count": 6,
      "metadata": {},
      "outputs": [
        {
          "name": "stdout",
          "output_type": "stream",
          "text": [
            "Displaying the first 1 rows of the file: ../../05_src/data/assignment_2_data/inflammation_01.csv\n",
            "['0', '0', '1', '3', '1', '2', '4', '7', '8', '3', '3', '3', '10', '5', '7', '4', '7', '7', '12', '18', '6', '13', '11', '11', '7', '7', '4', '6', '8', '8', '4', '4', '5', '7', '3', '4', '2', '3', '0', '0']\n",
            "\n",
            "Displaying the first 1 rows of the file: ../../05_src/data/assignment_2_data/inflammation_02.csv\n",
            "['0', '0', '0', '1', '3', '4', '6', '5', '2', '7', '7', '8', '6', '11', '5', '6', '10', '4', '5', '9', '15', '15', '14', '13', '14', '12', '10', '9', '8', '8', '6', '6', '6', '6', '5', '4', '2', '1', '1', '0']\n",
            "\n",
            "Displaying the first 1 rows of the file: ../../05_src/data/assignment_2_data/inflammation_03.csv\n",
            "['0', '0', '0', '2', '0', '4', '1', '7', '2', '6', '4', '7', '2', '4', '10', '7', '3', '13', '9', '3', '0', '1', '0', '15', '0', '5', '12', '3', '8', '6', '8', '6', '4', '3', '3', '2', '0', '0', '0', '0']\n",
            "\n",
            "Displaying the first 1 rows of the file: ../../05_src/data/assignment_2_data/inflammation_04.csv\n",
            "['0', '1', '2', '2', '4', '4', '2', '5', '2', '4', '8', '4', '10', '7', '3', '13', '10', '11', '7', '7', '9', '17', '7', '6', '12', '13', '12', '6', '5', '4', '8', '6', '7', '3', '5', '1', '1', '0', '1', '0']\n",
            "\n",
            "Displaying the first 1 rows of the file: ../../05_src/data/assignment_2_data/inflammation_05.csv\n",
            "['0', '1', '0', '2', '4', '4', '5', '1', '2', '5', '5', '8', '10', '12', '10', '9', '15', '9', '7', '9', '10', '7', '5', '8', '9', '6', '7', '5', '11', '9', '3', '8', '6', '7', '5', '1', '3', '0', '2', '1']\n",
            "\n",
            "Displaying the first 1 rows of the file: ../../05_src/data/assignment_2_data/inflammation_06.csv\n",
            "['0', '0', '2', '0', '3', '4', '5', '7', '6', '7', '8', '4', '4', '6', '9', '5', '10', '12', '16', '8', '19', '17', '16', '16', '12', '12', '12', '9', '8', '4', '2', '8', '3', '5', '6', '3', '2', '2', '0', '0']\n",
            "\n",
            "Displaying the first 1 rows of the file: ../../05_src/data/assignment_2_data/inflammation_07.csv\n",
            "['0', '1', '0', '2', '2', '5', '6', '2', '4', '7', '2', '2', '11', '5', '6', '4', '4', '7', '18', '17', '9', '5', '7', '15', '10', '4', '10', '3', '3', '2', '3', '4', '3', '7', '3', '3', '4', '1', '1', '1']\n",
            "\n",
            "Displaying the first 1 rows of the file: ../../05_src/data/assignment_2_data/inflammation_08.csv\n",
            "['0', '0', '0', '2', '0', '4', '1', '7', '2', '6', '4', '7', '2', '4', '10', '7', '3', '13', '9', '3', '0', '1', '0', '15', '0', '5', '12', '3', '8', '6', '8', '6', '4', '3', '3', '2', '0', '0', '0', '0']\n",
            "\n",
            "Displaying the first 1 rows of the file: ../../05_src/data/assignment_2_data/inflammation_09.csv\n",
            "['0', '0', '0', '2', '4', '5', '5', '4', '4', '6', '8', '2', '3', '8', '7', '13', '8', '14', '17', '6', '5', '15', '14', '13', '8', '6', '9', '9', '11', '10', '3', '5', '3', '1', '5', '4', '4', '3', '2', '1']\n",
            "\n",
            "Displaying the first 1 rows of the file: ../../05_src/data/assignment_2_data/inflammation_10.csv\n",
            "['0', '1', '0', '0', '3', '2', '3', '6', '7', '5', '10', '9', '10', '9', '5', '15', '12', '14', '13', '9', '15', '17', '4', '4', '4', '8', '5', '4', '7', '10', '3', '4', '4', '1', '1', '3', '1', '3', '0', '0']\n",
            "\n",
            "Displaying the first 1 rows of the file: ../../05_src/data/assignment_2_data/inflammation_11.csv\n",
            "['0', '0', '0', '2', '0', '4', '1', '7', '2', '6', '4', '7', '2', '4', '10', '7', '3', '13', '9', '3', '0', '1', '0', '15', '0', '5', '12', '3', '8', '6', '8', '6', '4', '3', '3', '2', '0', '0', '0', '0']\n",
            "\n",
            "Displaying the first 1 rows of the file: ../../05_src/data/assignment_2_data/inflammation_12.csv\n",
            "['0', '0', '2', '3', '3', '1', '6', '6', '3', '6', '10', '6', '8', '5', '5', '8', '16', '12', '13', '5', '13', '18', '11', '12', '11', '9', '10', '13', '9', '4', '4', '7', '7', '3', '1', '5', '3', '1', '1', '1']\n",
            "\n"
          ]
        }
      ],
      "source": [
        "# Display the first 'num_rows_to_display' rows for each file\n",
        "for file_path in all_paths:\n",
        "    try:\n",
        "        # Using csv.reader to read the file\n",
        "        with open(file_path, 'r') as file:\n",
        "            reader = csv.reader(file)\n",
        "            print(f\"Displaying the first {num_rows_to_display} rows of the file: {file_path}\")\n",
        "            \n",
        "            # Display the first 'num_rows_to_display' rows\n",
        "            for i, row in enumerate(reader):\n",
        "                print(row)\n",
        "                if i == num_rows_to_display - 1:  # Stop after displaying the defined number of rows\n",
        "                    break\n",
        "            print()  # Adds an empty line between files for clarity\n",
        "\n",
        "    except FileNotFoundError:\n",
        "        print(f\"Error: The file at {file_path} was not found.\")\n",
        "    except Exception as e:\n",
        "        print(f\"An error occurred with the file {file_path}: {e}\")\n"
      ]
    },
    {
      "cell_type": "markdown",
      "metadata": {},
      "source": [
        "Method 3: Using NumPy (np.loadtxt)\n"
      ]
    },
    {
      "cell_type": "code",
      "execution_count": 7,
      "metadata": {},
      "outputs": [
        {
          "name": "stdout",
          "output_type": "stream",
          "text": [
            "Displaying the first 1 rows of the file: ../../05_src/data/assignment_2_data/inflammation_01.csv\n",
            "[[ 0.  0.  1.  3.  1.  2.  4.  7.  8.  3.  3.  3. 10.  5.  7.  4.  7.  7.\n",
            "  12. 18.  6. 13. 11. 11.  7.  7.  4.  6.  8.  8.  4.  4.  5.  7.  3.  4.\n",
            "   2.  3.  0.  0.]]\n",
            "\n",
            "Displaying the first 1 rows of the file: ../../05_src/data/assignment_2_data/inflammation_02.csv\n",
            "[[ 0.  0.  0.  1.  3.  4.  6.  5.  2.  7.  7.  8.  6. 11.  5.  6. 10.  4.\n",
            "   5.  9. 15. 15. 14. 13. 14. 12. 10.  9.  8.  8.  6.  6.  6.  6.  5.  4.\n",
            "   2.  1.  1.  0.]]\n",
            "\n",
            "Displaying the first 1 rows of the file: ../../05_src/data/assignment_2_data/inflammation_03.csv\n",
            "[[ 0.  0.  0.  2.  0.  4.  1.  7.  2.  6.  4.  7.  2.  4. 10.  7.  3. 13.\n",
            "   9.  3.  0.  1.  0. 15.  0.  5. 12.  3.  8.  6.  8.  6.  4.  3.  3.  2.\n",
            "   0.  0.  0.  0.]]\n",
            "\n",
            "Displaying the first 1 rows of the file: ../../05_src/data/assignment_2_data/inflammation_04.csv\n",
            "[[ 0.  1.  2.  2.  4.  4.  2.  5.  2.  4.  8.  4. 10.  7.  3. 13. 10. 11.\n",
            "   7.  7.  9. 17.  7.  6. 12. 13. 12.  6.  5.  4.  8.  6.  7.  3.  5.  1.\n",
            "   1.  0.  1.  0.]]\n",
            "\n",
            "Displaying the first 1 rows of the file: ../../05_src/data/assignment_2_data/inflammation_05.csv\n",
            "[[ 0.  1.  0.  2.  4.  4.  5.  1.  2.  5.  5.  8. 10. 12. 10.  9. 15.  9.\n",
            "   7.  9. 10.  7.  5.  8.  9.  6.  7.  5. 11.  9.  3.  8.  6.  7.  5.  1.\n",
            "   3.  0.  2.  1.]]\n",
            "\n",
            "Displaying the first 1 rows of the file: ../../05_src/data/assignment_2_data/inflammation_06.csv\n",
            "[[ 0.  0.  2.  0.  3.  4.  5.  7.  6.  7.  8.  4.  4.  6.  9.  5. 10. 12.\n",
            "  16.  8. 19. 17. 16. 16. 12. 12. 12.  9.  8.  4.  2.  8.  3.  5.  6.  3.\n",
            "   2.  2.  0.  0.]]\n",
            "\n",
            "Displaying the first 1 rows of the file: ../../05_src/data/assignment_2_data/inflammation_07.csv\n",
            "[[ 0.  1.  0.  2.  2.  5.  6.  2.  4.  7.  2.  2. 11.  5.  6.  4.  4.  7.\n",
            "  18. 17.  9.  5.  7. 15. 10.  4. 10.  3.  3.  2.  3.  4.  3.  7.  3.  3.\n",
            "   4.  1.  1.  1.]]\n",
            "\n",
            "Displaying the first 1 rows of the file: ../../05_src/data/assignment_2_data/inflammation_08.csv\n",
            "[[ 0.  0.  0.  2.  0.  4.  1.  7.  2.  6.  4.  7.  2.  4. 10.  7.  3. 13.\n",
            "   9.  3.  0.  1.  0. 15.  0.  5. 12.  3.  8.  6.  8.  6.  4.  3.  3.  2.\n",
            "   0.  0.  0.  0.]]\n",
            "\n",
            "Displaying the first 1 rows of the file: ../../05_src/data/assignment_2_data/inflammation_09.csv\n",
            "[[ 0.  0.  0.  2.  4.  5.  5.  4.  4.  6.  8.  2.  3.  8.  7. 13.  8. 14.\n",
            "  17.  6.  5. 15. 14. 13.  8.  6.  9.  9. 11. 10.  3.  5.  3.  1.  5.  4.\n",
            "   4.  3.  2.  1.]]\n",
            "\n",
            "Displaying the first 1 rows of the file: ../../05_src/data/assignment_2_data/inflammation_10.csv\n",
            "[[ 0.  1.  0.  0.  3.  2.  3.  6.  7.  5. 10.  9. 10.  9.  5. 15. 12. 14.\n",
            "  13.  9. 15. 17.  4.  4.  4.  8.  5.  4.  7. 10.  3.  4.  4.  1.  1.  3.\n",
            "   1.  3.  0.  0.]]\n",
            "\n",
            "Displaying the first 1 rows of the file: ../../05_src/data/assignment_2_data/inflammation_11.csv\n",
            "[[ 0.  0.  0.  2.  0.  4.  1.  7.  2.  6.  4.  7.  2.  4. 10.  7.  3. 13.\n",
            "   9.  3.  0.  1.  0. 15.  0.  5. 12.  3.  8.  6.  8.  6.  4.  3.  3.  2.\n",
            "   0.  0.  0.  0.]]\n",
            "\n",
            "Displaying the first 1 rows of the file: ../../05_src/data/assignment_2_data/inflammation_12.csv\n",
            "[[ 0.  0.  2.  3.  3.  1.  6.  6.  3.  6. 10.  6.  8.  5.  5.  8. 16. 12.\n",
            "  13.  5. 13. 18. 11. 12. 11.  9. 10. 13.  9.  4.  4.  7.  7.  3.  1.  5.\n",
            "   3.  1.  1.  1.]]\n",
            "\n"
          ]
        }
      ],
      "source": [
        "# Using NumPy to display the first 'num_rows_to_display' rows from each file:\n",
        "for file_path in all_paths:\n",
        "    try:\n",
        "        # Load the data from the CSV file using numpy\n",
        "        data = np.loadtxt(fname=file_path, delimiter=',')\n",
        "        \n",
        "        # Display the first 'num_rows_to_display' rows\n",
        "        print(f\"Displaying the first {num_rows_to_display} rows of the file: {file_path}\")\n",
        "        print(data[:num_rows_to_display])  # Slicing to get the first 'num_rows_to_display' rows\n",
        "        print()  # Adds an empty line between files for clarity\n",
        "\n",
        "    except FileNotFoundError:\n",
        "        print(f\"Error: The file at {file_path} was not found.\")\n",
        "    except ValueError as e:\n",
        "        print(f\"Error: Could not read data from {file_path}. Possibly due to non-numeric content. Details: {e}\")\n",
        "    except Exception as e:\n",
        "        print(f\"An error occurred with the file {file_path}: {e}\")\n"
      ]
    },
    {
      "cell_type": "code",
      "execution_count": 8,
      "metadata": {},
      "outputs": [
        {
          "data": {
            "text/plain": [
              "(60, 40)"
            ]
          },
          "execution_count": 8,
          "metadata": {},
          "output_type": "execute_result"
        }
      ],
      "source": [
        "data.shape\n"
      ]
    },
    {
      "cell_type": "code",
      "execution_count": 9,
      "metadata": {},
      "outputs": [
        {
          "name": "stdout",
          "output_type": "stream",
          "text": [
            "Patiens: 60\n",
            "Days: 40\n"
          ]
        }
      ],
      "source": [
        "num_rows = data.shape[0] \n",
        "num_columns = data.shape[1]  \n",
        "\n",
        "print(f\"Patiens: {num_rows}\")\n",
        "print(f\"Days: {num_columns}\")\n"
      ]
    },
    {
      "cell_type": "code",
      "execution_count": 10,
      "metadata": {},
      "outputs": [
        {
          "name": "stdout",
          "output_type": "stream",
          "text": [
            "Patients: 60, Days: 40\n"
          ]
        }
      ],
      "source": [
        "num_rows, num_columns = data.shape\n",
        "print(f\"Patients: {num_rows}, Days: {num_columns}\")\n"
      ]
    },
    {
      "cell_type": "markdown",
      "metadata": {
        "id": "sacozX7oB1VP"
      },
      "source": [
        "## 2. Data Summarization Function: `patient_summary`\n",
        "\n",
        "Your next step is to create a function named `patient_summary` that will compute summary statistics for each patient's data over a 40-day period.\n",
        "\n",
        "**Function Specifications**:\n",
        "- **Function Name**: `patient_summary`\n",
        "- **Parameters**:\n",
        "  1. `file_path`: A string representing the path to the CSV file containing the patient data.\n",
        "  2. `operation`: A string specifying the type of summary operation to perform. Acceptable values are \"mean\", \"max\", or \"min\". This will determine whether the function calculates the average, maximum, or minimum number of flare-ups for each patient over the 40 days.\n",
        "\n",
        "**Expected Behavior**:\n",
        "- Your function should read the data from the file at `file_path`.\n",
        "- Perform the specified `operation` (mean, max, or min) to summarize the flare-ups data for each of the 60 patients.\n",
        "- Return an array with 60 elements, each element being the result of the summary operation for a corresponding patient.\n",
        "\n",
        "**Expected Output**:\n",
        "- The output should be an array with a length of 60, aligning with the number of patients in the study.\n",
        "\n",
        "**Hints for Implementation**:\n",
        "1. **Utilizing NumPy**: For efficient data manipulation and computation, consider using NumPy, as discussed in the `10_numpy` slides.\n",
        "2. **Output Shape**: Ensure that the shape of your output data matches the number of patients, which is 60."
      ]
    },
    {
      "cell_type": "code",
      "execution_count": 11,
      "metadata": {},
      "outputs": [],
      "source": [
        "def patient_summary(file_path, operation):\n",
        "    \"\"\"\n",
        "    Computes summary statistics for patient data.\n",
        "\n",
        "    Parameters:\n",
        "        file_path (str): Path to the CSV file containing patient data.\n",
        "        operation (str): Summary operation to perform: 'mean', 'max', or 'min'.\n",
        "\n",
        "    Returns:\n",
        "        np.ndarray: Array of summary values for each patient.\n",
        "    \"\"\"\n",
        "    # Load the data from the CSV file\n",
        "    try:\n",
        "        data = np.loadtxt(fname=file_path, delimiter=',')\n",
        "    except Exception as e:\n",
        "        raise ValueError(f\"Error loading file {file_path}: {e}\")\n",
        "\n",
        "    # Validate data shape (60 rows, 40 columns)\n",
        "    if data.shape != (60, 40):\n",
        "        raise ValueError(f\"File {file_path} does not have the required shape (60, 40). Found {data.shape}.\")\n",
        "\n",
        "    # Select the operation to perform\n",
        "    if operation == 'mean':\n",
        "        summary_values = np.mean(data, axis=1)  # Mean for each patient\n",
        "    elif operation == 'max':\n",
        "        summary_values = np.max(data, axis=1)  # Max for each patient\n",
        "    elif operation == 'min':\n",
        "        summary_values = np.min(data, axis=1)  # Min for each patient\n",
        "    else:\n",
        "        # Raise an error for invalid operations\n",
        "        raise ValueError(\"Invalid operation. Please choose 'mean', 'max', or 'min'.\")\n",
        "\n",
        "    return summary_values\n"
      ]
    },
    {
      "cell_type": "code",
      "execution_count": 12,
      "metadata": {},
      "outputs": [
        {
          "name": "stdout",
          "output_type": "stream",
          "text": [
            "60\n"
          ]
        }
      ],
      "source": [
        "# Corrected line\n",
        "print(len(patient_summary(all_paths[2], 'mean')))\n"
      ]
    },
    {
      "cell_type": "code",
      "execution_count": 13,
      "metadata": {},
      "outputs": [
        {
          "name": "stdout",
          "output_type": "stream",
          "text": [
            "[4.    4.225 3.9   3.7   4.075 3.95  4.55  3.45  3.975 4.525 4.425 4.225\n",
            " 3.85  4.925 4.5   3.225 4.4   4.275 4.5   4.125 4.7   5.9   3.975 4.\n",
            " 5.275 4.075 4.475 3.7   3.775 3.7   3.925 4.525 4.125 4.025 4.1   4.675\n",
            " 5.025 4.9   4.7   4.75  3.975 5.325 3.925 4.4   4.35  4.65  4.1   4.\n",
            " 4.4   4.575 3.9   4.65  3.725 4.    4.    5.2   4.325 3.575 4.075 0.   ]\n"
          ]
        }
      ],
      "source": [
        "print(patient_summary(all_paths[2], 'mean'))\n"
      ]
    },
    {
      "cell_type": "code",
      "execution_count": 14,
      "metadata": {},
      "outputs": [
        {
          "name": "stdout",
          "output_type": "stream",
          "text": [
            "[0. 0. 0. 0. 0. 0. 0. 0. 0. 0. 0. 0. 0. 0. 0. 0. 0. 0. 0. 0. 0. 0. 0. 0.\n",
            " 0. 0. 0. 0. 0. 0. 0. 0. 0. 0. 0. 0. 0. 0. 0. 0. 0. 0. 0. 0. 0. 0. 0. 0.\n",
            " 0. 0. 0. 0. 0. 0. 0. 0. 0. 0. 0. 0.]\n"
          ]
        }
      ],
      "source": [
        "print(patient_summary(all_paths[2], 'min'))\n"
      ]
    },
    {
      "cell_type": "code",
      "execution_count": 15,
      "metadata": {},
      "outputs": [
        {
          "name": "stdout",
          "output_type": "stream",
          "text": [
            "[15. 17. 14. 13. 15. 15. 16. 17. 16. 19. 14. 14. 16. 14. 16. 15. 14. 18.\n",
            " 16. 16. 20. 20. 16. 15. 16. 15. 19. 16. 17. 18. 15. 16. 20. 16. 17. 15.\n",
            " 20. 16. 18. 18. 17. 18. 16. 15. 19. 15. 16. 15. 16. 19. 14. 19. 13. 15.\n",
            " 18. 19. 14. 16. 17.  0.]\n"
          ]
        }
      ],
      "source": [
        "print(patient_summary(all_paths[2], 'max'))\n"
      ]
    },
    {
      "cell_type": "code",
      "execution_count": 16,
      "metadata": {},
      "outputs": [],
      "source": [
        "# print(data)\n"
      ]
    },
    {
      "cell_type": "code",
      "execution_count": 17,
      "metadata": {},
      "outputs": [
        {
          "name": "stdout",
          "output_type": "stream",
          "text": [
            "Mean inflammation scores:\n",
            "[5.45  5.425 6.1   5.9   5.55  6.225 5.975 6.65  6.625 6.525 6.775 5.8\n",
            " 6.225 5.75  5.225 6.3   6.55  5.7   5.85  6.55  5.775 5.825 6.175 6.1\n",
            " 5.8   6.425 6.05  6.025 6.175 6.55  6.175 6.35  6.725 6.125 7.075 5.725\n",
            " 5.925 6.15  6.075 5.75  5.975 5.725 6.3   5.9   6.75  5.925 7.225 6.15\n",
            " 5.95  6.275 5.7   6.1   6.825 5.975 6.725 5.7   6.25  6.4   7.05  5.9  ]\n"
          ]
        }
      ],
      "source": [
        "# Test the function by computing the mean for the first file\n",
        "means = patient_summary(all_paths[0], 'mean')\n",
        "print(\"Mean inflammation scores:\")\n",
        "print(means)\n"
      ]
    },
    {
      "cell_type": "markdown",
      "metadata": {
        "id": "I-5m0RvxFx4J"
      },
      "source": [
        "## 3. Error Detection in Patient Data\n",
        "\n",
        "Your final task is to develop a function named `detect_problems` that identifies any irregularities in the patient data, specifically focusing on detecting patients with a mean inflammation score of 0.\n",
        "\n",
        "**Function Specifications**:\n",
        "- **Function Name**: `detect_problems`\n",
        "- **Parameter**:\n",
        "  - `file_path`: A string that specifies the path to the CSV file containing patient data.\n",
        "\n",
        "**Expected Behavior**:\n",
        "- The function should read the patient data from the file at `file_path`.\n",
        "- Utilize the previously defined `patient_summary()` function to calculate the mean inflammation for each patient.\n",
        "- Employ an additional helper function `check_zeros(x)` (provided) to determine if there are any zero values in the array of mean inflammations.\n",
        "- The `detect_problems()` function should return `True` if there is at least one patient with a mean inflammation score of 0, and `False` otherwise.\n",
        "\n",
        "**Hints for Implementation**:\n",
        "1. Call `patient_summary(file_path, 'mean')` to get the mean inflammation scores for all patients.\n",
        "2. Use `check_zeros()` to evaluate the mean scores. This helper function takes an array as input and returns `True` if it finds zero values in the array.\n",
        "3. Based on the output from `check_zeros()`, the `detect_problems()` function should return `True` (indicating an issue) if any mean inflammation scores of 0 are found, or `False` if none are found.\n",
        "\n",
        "**Note**: This function is crucial for identifying potential data entry errors, such as healthy individuals being mistakenly included in the dataset or other data-related issues."
      ]
    },
    {
      "cell_type": "markdown",
      "metadata": {
        "id": "pb9EugDCJA4c"
      },
      "source": [
        "**Understanding the `check_zeros(x)` Helper Function**\n",
        "\n",
        "The `check_zeros(x)` function is provided as a tool to assist with your data analysis. While you do not need to modify or fully understand the internal workings of this function, it's important to grasp its input, output, and what the output signifies:\n",
        "\n",
        "1. **Input**:\n",
        "   - **Parameter `x`**: This function takes an array of numbers as its input. In the context of your assignment, this array will typically represent a set of data points from your patient data, such as mean inflammation scores.\n",
        "\n",
        "2. **Output**:\n",
        "   - The function returns a boolean value: either `True` or `False`.\n",
        "\n",
        "3. **Interpreting the Output**:\n",
        "   - **Output is `True`**: This indicates that the array `x` contains at least one zero value. In the context of your analysis, this means that at least one patient has a mean inflammation score of 0, signaling a potential issue or anomaly in the data.\n",
        "   - **Output is `False`**: This signifies that there are no zero values in the array `x`. For your patient data, it means no patient has a mean inflammation score of 0, and thus no apparent anomalies of this type were detected.\n",
        "\n",
        "**Usage in Your Analysis**:\n",
        "When using `check_zeros(x)` in conjunction with your `patient_summary()` function in the `detect_problems()` function, you'll be checking whether any patient in your dataset has an average (mean) inflammation score of 0."
      ]
    },
    {
      "cell_type": "code",
      "execution_count": 18,
      "metadata": {
        "id": "_svDiRkdIwiT"
      },
      "outputs": [],
      "source": [
        "# Run this cell so you can use this helper function\n",
        "\n",
        "def check_zeros(x):\n",
        "    '''\n",
        "    Given an array, x, check whether any values in x equal 0.\n",
        "    Return True if any values found, else returns False.\n",
        "    '''\n",
        "    # np.where() checks every value in x against the condition (x == 0) and returns a tuple of indices where it was True (i.e. x was 0)\n",
        "    flag = np.where(x == 0)[0]\n",
        "\n",
        "    # Checks if there are any objects in flag (i.e. not empty)\n",
        "    # If not empty, it found at least one zero so flag is True, and vice-versa.\n",
        "    return len(flag) > 0\n"
      ]
    },
    {
      "cell_type": "code",
      "execution_count": 19,
      "metadata": {},
      "outputs": [
        {
          "name": "stdout",
          "output_type": "stream",
          "text": [
            "Problem detected: True\n"
          ]
        }
      ],
      "source": [
        "def detect_problems(file_path):\n",
        "    \"\"\"\n",
        "    Detect problems in the patient data by checking if any patient has a mean inflammation score of 0.\n",
        "\n",
        "    Parameters:\n",
        "        file_path (str): Path to the CSV file containing patient data.\n",
        "\n",
        "    Returns:\n",
        "        bool: True if there is at least one patient with a mean inflammation score of 0, otherwise False.\n",
        "    \"\"\"\n",
        "    # Get the mean inflammation scores using the patient_summary function\n",
        "    means = patient_summary(file_path, 'mean')\n",
        "\n",
        "    # Check for zeros in the mean scores\n",
        "    return check_zeros(means)\n",
        "\n",
        "# Test the function\n",
        "problem_found = detect_problems(all_paths[2])\n",
        "print(\"Problem detected:\", problem_found)\n"
      ]
    },
    {
      "cell_type": "code",
      "execution_count": 20,
      "metadata": {},
      "outputs": [
        {
          "name": "stdout",
          "output_type": "stream",
          "text": [
            "Problem detected in ../../05_src/data/assignment_2_data/inflammation_01.csv: False\n",
            "Problem detected in ../../05_src/data/assignment_2_data/inflammation_02.csv: False\n",
            "Problem detected in ../../05_src/data/assignment_2_data/inflammation_03.csv: True\n",
            "Problem detected in ../../05_src/data/assignment_2_data/inflammation_04.csv: False\n",
            "Problem detected in ../../05_src/data/assignment_2_data/inflammation_05.csv: False\n",
            "Problem detected in ../../05_src/data/assignment_2_data/inflammation_06.csv: False\n",
            "Problem detected in ../../05_src/data/assignment_2_data/inflammation_07.csv: False\n",
            "Problem detected in ../../05_src/data/assignment_2_data/inflammation_08.csv: True\n",
            "Problem detected in ../../05_src/data/assignment_2_data/inflammation_09.csv: False\n",
            "Problem detected in ../../05_src/data/assignment_2_data/inflammation_10.csv: False\n",
            "Problem detected in ../../05_src/data/assignment_2_data/inflammation_11.csv: True\n",
            "Problem detected in ../../05_src/data/assignment_2_data/inflammation_12.csv: False\n"
          ]
        }
      ],
      "source": [
        "# Test detect_problems on multiple files\n",
        "for file_path in all_paths:\n",
        "    problem_found = detect_problems(file_path)\n",
        "    print(f\"Problem detected in {file_path}: {problem_found}\")\n"
      ]
    },
    {
      "cell_type": "markdown",
      "metadata": {
        "id": "j9SUzhiGuHhS"
      },
      "source": [
        "| Criteria                     | Complete Criteria                                                                                                                                                                 | Incomplete Criteria                                                                                                         |\n",
        "|------------------------------|-------------------------------------------------------------------------------------------------------------------------------------------------------------------------------|-----------------------------------------------------------------------------------------------------------------------|\n",
        "| **General Criteria**         |                                                                                                                                                                               |                                                                                                                       |\n",
        "| Code Execution               | All code cells execute without errors.                                                                                                                                        | Any code cell produces an error upon execution.                                                                      |\n",
        "| Code Quality                 | Code is well-organized, concise, and includes necessary comments for clarity.                                                                                                 | Code is unorganized, verbose, or lacks necessary comments.                                                            |\n",
        "| Data Handling                | Data files are correctly handled and processed.                                                                                                                               | Data files are not handled or processed correctly.                                                                    |\n",
        "| Adherence to Instructions    | Follows all instructions and requirements as per the assignment.                                                                                                              | Misses or incorrectly implements one or more of the assignment requirements.                                         |\n",
        "| **Specific Criteria**        |                                                                                                                                                                               |                                                                                                                       |\n",
        "| 1. Reading in our files | Correctly prints out information from the first file.                                                  | Fails to print out information from the first file.                              |\n",
        "| 2. Summarizing our data | Correctly defines `patient_summary()` function. Function processes data as per `operation` and outputs correctly shaped data (60 entries).                                   | Incomplete or incorrect definition of `patient_summary()`. Incorrect implementation of operation or wrong output shape.|\n",
        "| 3. Checking for Errors  | Correctly defines `detect_problems()` function. Function uses `patient_summary()` and `check_zeros()` to identify mean inflammation of 0 accurately.                        | Incorrect definition or implementation of `detect_problems()` function. Fails to accurately identify mean inflammation of 0.|\n",
        "| **Overall Assessment**       | Meets all the general and specific criteria, indicating a strong understanding of the assignment objectives.                                                                  | Fails to meet one or more of the general or specific criteria, indicating a need for further learning or clarification.|\n"
      ]
    },
    {
      "cell_type": "markdown",
      "metadata": {
        "id": "TY_ppBzHvdak"
      },
      "source": [
        "## References\n",
        "\n",
        "### Data Sources\n",
        "- Software Carpentry. _Python Novice Inflammation Data_. http://swcarpentry.github.io/python-novice-inflammation/data/python-novice-inflammation-data.zip\n"
      ]
    }
  ],
  "metadata": {
    "colab": {
      "provenance": []
    },
    "kernelspec": {
      "display_name": "Python 3",
      "name": "python3"
    },
    "language_info": {
      "codemirror_mode": {
        "name": "ipython",
        "version": 3
      },
      "file_extension": ".py",
      "mimetype": "text/x-python",
      "name": "python",
      "nbconvert_exporter": "python",
      "pygments_lexer": "ipython3",
      "version": "3.13.0"
    }
  },
  "nbformat": 4,
  "nbformat_minor": 0
}
